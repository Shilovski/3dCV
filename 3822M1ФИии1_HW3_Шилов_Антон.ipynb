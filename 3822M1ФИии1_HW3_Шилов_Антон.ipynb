{
  "cells": [
    {
      "cell_type": "code",
      "execution_count": 6,
      "id": "2bbe3c84",
      "metadata": {
        "id": "2bbe3c84"
      },
      "outputs": [],
      "source": [
        "from scipy.sparse import csr_matrix, block_diag\n",
        "import cv2\n",
        "import numpy as np\n",
        "import pandas as pd"
      ]
    },
    {
      "cell_type": "code",
      "execution_count": 17,
      "id": "62e7c2f6",
      "metadata": {
        "id": "62e7c2f6"
      },
      "outputs": [],
      "source": [
        "np.set_printoptions(precision=3, floatmode='fixed')"
      ]
    },
    {
      "attachments": {},
      "cell_type": "markdown",
      "id": "721b8575",
      "metadata": {
        "id": "721b8575"
      },
      "source": [
        "### №17"
      ]
    },
    {
      "cell_type": "code",
      "execution_count": 18,
      "id": "eab932ab",
      "metadata": {
        "colab": {
          "base_uri": "https://localhost:8080/"
        },
        "id": "eab932ab",
        "outputId": "9d261170-c920-44a7-bbbf-89a6c8f06a4f"
      },
      "outputs": [
        {
          "name": "stdout",
          "output_type": "stream",
          "text": [
            "Необходимая матрица E:\n",
            "[[-2.591e-16 -8.527e-16  1.269e-15]\n",
            " [-9.941e-16  1.861e-15  7.071e-01]\n",
            " [ 2.432e-16 -7.071e-01 -1.333e-15]]\n",
            "Сингулярные числа E:\n",
            "[7.071e-01 7.071e-01 2.591e-16]\n"
          ]
        }
      ],
      "source": [
        "points_3d = np.random.rand(10, 3)\n",
        "points_3d[:, 2] += 1\n",
        "\n",
        "K = np.eye(3)\n",
        "\n",
        "R1 = np.eye(3)\n",
        "t1 = np.zeros((3, 1))\n",
        "\n",
        "R2 = np.eye(3)\n",
        "t2 = np.array([1, 0 ,0], dtype=np.float32)\n",
        "\n",
        "points_2d_1, _ = cv2.projectPoints(points_3d, R1, t1, K, None)\n",
        "points_2d_2, _ = cv2.projectPoints(points_3d, R2, t2, K, None)\n",
        "\n",
        "E, _ = cv2.findEssentialMat(points_2d_1, points_2d_2, K, cv2.RANSAC)\n",
        "\n",
        "print(\"Необходимая матрица E:\")\n",
        "print(E)\n",
        "print(\"Сингулярные числа E:\")\n",
        "print(np.linalg.svd(E)[1])"
      ]
    },
    {
      "attachments": {},
      "cell_type": "markdown",
      "id": "b16dba4e",
      "metadata": {},
      "source": [
        "### №18"
      ]
    },
    {
      "cell_type": "code",
      "execution_count": 19,
      "id": "2e613d6a",
      "metadata": {},
      "outputs": [
        {
          "name": "stdout",
          "output_type": "stream",
          "text": [
            "Возможная поза первой камеры относительно второй [R|T]:\n",
            "[[ 1.000e+00  2.139e-15  2.612e-15  1.000e+00]\n",
            " [-2.627e-15  1.000e+00 -3.886e-16 -2.283e-15]\n",
            " [-2.548e-15  3.331e-16  1.000e+00 -1.142e-15]]\n",
            "Возможная поза первой камеры относительно второй [R|T]:\n",
            "[[ 1.000e+00 -1.451e-15  2.000e-16 -1.000e+00]\n",
            " [-1.939e-15 -1.000e+00  3.886e-16  2.283e-15]\n",
            " [ 2.642e-16 -3.331e-16 -1.000e+00  1.142e-15]]\n"
          ]
        }
      ],
      "source": [
        "R1, R2, T = cv2.decomposeEssentialMat(E)\n",
        "valid_poses = []\n",
        "num_valid_points = []\n",
        "\n",
        "for i in range(4):\n",
        "    P1 = np.hstack((np.eye(3, 3), np.zeros((3, 1))))\n",
        "    if i == 0:\n",
        "        P2 = np.hstack((R1, T))\n",
        "    elif i == 1:\n",
        "        P2 = np.hstack((R1, -T))\n",
        "    elif i == 2:\n",
        "        P2 = np.hstack((R2, T))\n",
        "    elif i == 3:\n",
        "        P2 = np.hstack((R2, -T))\n",
        "\n",
        "    points_2d_3, _ = cv2.projectPoints(points_3d, P1[:, :3], P1[:, 3:], K, None)\n",
        "    points_2d_4, _ = cv2.projectPoints(points_3d, P2[:, :3], P2[:, 3:], K, None)\n",
        "\n",
        "    if np.all(points_2d_3 > 0) and np.all(points_2d_4 > 0):\n",
        "        print(\"Возможная поза первой камеры относительно второй [R|T]:\")\n",
        "        print(P2)"
      ]
    },
    {
      "attachments": {},
      "cell_type": "markdown",
      "id": "65b5904c",
      "metadata": {
        "id": "65b5904c"
      },
      "source": [
        "### №19"
      ]
    },
    {
      "cell_type": "code",
      "execution_count": 11,
      "id": "b2103265",
      "metadata": {},
      "outputs": [
        {
          "name": "stdout",
          "output_type": "stream",
          "text": [
            "Параметры, полученные методом калибрации камеры\n",
            "[[426.   0. 482.]\n",
            " [  0. 435. 267.]\n",
            " [  0.   0.   1.]]\n",
            "Параметры, полученные при предположении\n",
            "[[433.   0. 480.]\n",
            " [  0. 366. 270.]\n",
            " [  0.   0.   1.]]\n"
          ]
        }
      ],
      "source": [
        "image_path = \"GOPR01170000.jpg\"\n",
        "image = cv2.imread(image_path)\n",
        "\n",
        "f_len = 0.64 * 25.4\n",
        "image_width = image.shape[1]\n",
        "image_height = image.shape[0]\n",
        "\n",
        "pixel_size_x = 36 / image_width\n",
        "pixel_size_y = 24 / image_height\n",
        "\n",
        "f_len_px = f_len / pixel_size_x\n",
        "f_len_py = f_len / pixel_size_y\n",
        "\n",
        "cx = image_width / 2\n",
        "cy = image_height / 2\n",
        "\n",
        "K1 = np.array([[4.2581151397691417e+02, 0.0, 4.8175802555527360e+02], \n",
        "               [ 0.0, 4.3533255745518812e+02, 2.6743704185634374e+02], \n",
        "               [ 0.0, 0.0, 1.0]], dtype=np.float32)\n",
        "\n",
        "K2 = np.array([[f_len_px, 0, cx],\n",
        "              [0, f_len_py, cy],\n",
        "              [0, 0, 1]], dtype=np.float32)\n",
        "\n",
        "print(\"Параметры, полученные методом калибрации камеры\")\n",
        "print(K1)\n",
        "print(\"Параметры, полученные при предположении\")\n",
        "print(K2)"
      ]
    },
    {
      "attachments": {},
      "cell_type": "markdown",
      "id": "5e5f8c93",
      "metadata": {
        "id": "5e5f8c93"
      },
      "source": [
        "### №20"
      ]
    },
    {
      "cell_type": "code",
      "execution_count": 8,
      "id": "196e4edf",
      "metadata": {},
      "outputs": [],
      "source": [
        "np.set_printoptions(precision=0, floatmode='fixed')"
      ]
    },
    {
      "cell_type": "code",
      "execution_count": 9,
      "id": "bcc17dfc",
      "metadata": {},
      "outputs": [
        {
          "name": "stdout",
          "output_type": "stream",
          "text": [
            "Первые 20 значений вектора x: [1. 1. 1. 1. 1. 1. 1. 1. 1. 1. 2. 2. 2. 2. 2. 2. 2. 2. 2. 2.]\n"
          ]
        }
      ],
      "source": [
        "n = 10\n",
        "m = 3 * 10 ** 6\n",
        "\n",
        "r = pd.read_csv('rhs.csv', header=None)\n",
        "r = r.values.flatten()\n",
        "\n",
        "i = np.arange(n).reshape(n, 1)\n",
        "j = np.arange(n)\n",
        "C = 1 / (i + j + 1)\n",
        "\n",
        "i = np.arange(1, n + 1)\n",
        "j = np.arange(1, m + 1)\n",
        "I, J = np.meshgrid(i, j, indexing='ij')\n",
        "D = np.cos(I * J)\n",
        "\n",
        "Gb = np.array([[1, 0, 1],\n",
        "              [0, 1, 0],\n",
        "              [-1, 0, 1]])\n",
        "\n",
        "Gb = [Gb] * (m // Gb.shape[0])\n",
        "G = csr_matrix(block_diag(Gb))\n",
        "\n",
        "Gb_inv = np.linalg.inv(Gb)\n",
        "G_inv = csr_matrix(block_diag(Gb_inv))\n",
        "\n",
        "A = C - D @ G_inv @ D.T\n",
        "\n",
        "a = r[:10]\n",
        "b = r[10:]\n",
        "\n",
        "Delta_c = np.linalg.solve(A, a - D @ G_inv @ b)\n",
        "Delta_S = G_inv @ (b - D.T @ Delta_c)\n",
        "\n",
        "x = np.concatenate([Delta_c, Delta_S])\n",
        "\n",
        "print(\"Первые 20 значений вектора x:\", x[:20])"
      ]
    }
  ],
  "metadata": {
    "colab": {
      "provenance": []
    },
    "kernelspec": {
      "display_name": "Python 3 (ipykernel)",
      "language": "python",
      "name": "python3"
    },
    "language_info": {
      "codemirror_mode": {
        "name": "ipython",
        "version": 3
      },
      "file_extension": ".py",
      "mimetype": "text/x-python",
      "name": "python",
      "nbconvert_exporter": "python",
      "pygments_lexer": "ipython3",
      "version": "3.9.13"
    }
  },
  "nbformat": 4,
  "nbformat_minor": 5
}

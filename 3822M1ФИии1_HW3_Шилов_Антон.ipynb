{
  "cells": [
    {
      "cell_type": "code",
      "execution_count": 1,
      "id": "2bbe3c84",
      "metadata": {
        "id": "2bbe3c84"
      },
      "outputs": [],
      "source": [
        "from scipy.sparse import csr_matrix, block_diag\n",
        "import cv2\n",
        "import numpy as np\n",
        "import pandas as pd"
      ]
    },
    {
      "cell_type": "code",
      "execution_count": 2,
      "id": "62e7c2f6",
      "metadata": {
        "id": "62e7c2f6"
      },
      "outputs": [],
      "source": [
        "np.set_printoptions(precision=3, floatmode='fixed')"
      ]
    },
    {
      "attachments": {},
      "cell_type": "markdown",
      "id": "721b8575",
      "metadata": {
        "id": "721b8575"
      },
      "source": [
        "### №17"
      ]
    },
    {
      "cell_type": "code",
      "execution_count": 3,
      "id": "81f10d74",
      "metadata": {},
      "outputs": [
        {
          "name": "stdout",
          "output_type": "stream",
          "text": [
            "Необходимая матрица E:\n",
            "[[ 0.078  0.653 -0.234]\n",
            " [ 0.274 -0.267 -0.556]\n",
            " [-0.099 -0.024  0.213]]\n",
            "Сингулярные числа E:\n",
            "[7.071e-01 7.071e-01 2.183e-16]\n"
          ]
        }
      ],
      "source": [
        "points = np.random.rand(10, 3)\n",
        "points[:, 2] += 1\n",
        "\n",
        "K = np.eye(3)\n",
        "\n",
        "R1 = np.eye(3)\n",
        "t1 = np.zeros((3, 1))\n",
        "\n",
        "R2 = np.eye(3)\n",
        "t2 = np.array([1, 0 ,0], dtype=np.float32)\n",
        "\n",
        "points_1, _ = cv2.projectPoints(points, R1, t1, K, None)\n",
        "points_2, _ = cv2.projectPoints(points, R2, t2, K, None)\n",
        "\n",
        "E, _ = cv2.findEssentialMat(points_1, points_2, K, cv2.RANSAC)\n",
        "\n",
        "print(\"Необходимая матрица E:\")\n",
        "print(E)\n",
        "print(\"Сингулярные числа E:\")\n",
        "print(np.linalg.svd(E)[1])"
      ]
    },
    {
      "attachments": {},
      "cell_type": "markdown",
      "id": "b16dba4e",
      "metadata": {},
      "source": [
        "### №18"
      ]
    },
    {
      "cell_type": "code",
      "execution_count": 4,
      "id": "2e613d6a",
      "metadata": {},
      "outputs": [
        {
          "name": "stdout",
          "output_type": "stream",
          "text": [
            "Поза первой камеры относительно второй [R|T]:\n",
            "[[ 0.267 -0.353 -0.897  0.155]\n",
            " [-0.393 -0.890  0.234  0.296]\n",
            " [-0.880  0.290 -0.376  0.943]]\n"
          ]
        }
      ],
      "source": [
        "R1, R2, T = cv2.decomposeEssentialMat(E)\n",
        "\n",
        "ones = np.ones(points.shape[0])\n",
        "homogen_coords = np.hstack((points.reshape(-1, 3), ones[:, np.newaxis]))\n",
        "positive_counts = []\n",
        "\n",
        "possible_cases = [np.hstack((R1, T)), np.hstack((R1, -T)), \n",
        "                  np.hstack((R2, T)), np.hstack((R2, -T))]\n",
        "\n",
        "for _, case in enumerate(possible_cases):\n",
        "    new_points = case @ homogen_coords.T\n",
        "    positive_z_count = sum(new_points[2] >= 0)\n",
        "    positive_counts.append(positive_z_count)\n",
        "\n",
        "max_index = positive_counts.index(max(positive_counts))\n",
        "\n",
        "print(\"Поза первой камеры относительно второй [R|T]:\")\n",
        "print(possible_cases[max_index])"
      ]
    },
    {
      "attachments": {},
      "cell_type": "markdown",
      "id": "65b5904c",
      "metadata": {
        "id": "65b5904c"
      },
      "source": [
        "### №19"
      ]
    },
    {
      "cell_type": "code",
      "execution_count": 5,
      "id": "b2103265",
      "metadata": {},
      "outputs": [
        {
          "name": "stdout",
          "output_type": "stream",
          "text": [
            "Параметры, полученные методом калибрации камеры\n",
            "[[425.812   0.000 481.758]\n",
            " [  0.000 435.333 267.437]\n",
            " [  0.000   0.000   1.000]]\n",
            "Параметры, полученные при предположении\n",
            "[[433.493   0.000 480.000]\n",
            " [  0.000 365.760 270.000]\n",
            " [  0.000   0.000   1.000]]\n"
          ]
        }
      ],
      "source": [
        "image_path = \"GOPR01170000.jpg\"\n",
        "image = cv2.imread(image_path)\n",
        "\n",
        "f_len = 0.64 * 25.4\n",
        "image_width = image.shape[1]\n",
        "image_height = image.shape[0]\n",
        "\n",
        "pixel_size_x = 36 / image_width\n",
        "pixel_size_y = 24 / image_height\n",
        "\n",
        "f_len_px = f_len / pixel_size_x\n",
        "f_len_py = f_len / pixel_size_y\n",
        "\n",
        "cx = image_width / 2\n",
        "cy = image_height / 2\n",
        "\n",
        "K1 = np.array([[4.2581151397691417e+02, 0.0, 4.8175802555527360e+02], \n",
        "               [ 0.0, 4.3533255745518812e+02, 2.6743704185634374e+02], \n",
        "               [ 0.0, 0.0, 1.0]], dtype=np.float32)\n",
        "\n",
        "K2 = np.array([[f_len_px, 0, cx],\n",
        "              [0, f_len_py, cy],\n",
        "              [0, 0, 1]], dtype=np.float32)\n",
        "\n",
        "print(\"Параметры, полученные методом калибрации камеры\")\n",
        "print(K1)\n",
        "print(\"Параметры, полученные при предположении\")\n",
        "print(K2)"
      ]
    },
    {
      "attachments": {},
      "cell_type": "markdown",
      "id": "d1d326c4",
      "metadata": {},
      "source": [
        "* Метод калибрации камеры в OpenCV использует вектор коэффициентов дисторсии.\n",
        "\n",
        "* Ошибки в предположениях: фокусное расстояние в эквиваленте 35 мм может быть приближенным значением и не соответствовать фактическому фокусному расстоянию, а оптическая ось может не проходить строго через центр изображения."
      ]
    },
    {
      "attachments": {},
      "cell_type": "markdown",
      "id": "5e5f8c93",
      "metadata": {
        "id": "5e5f8c93"
      },
      "source": [
        "### №20"
      ]
    },
    {
      "cell_type": "code",
      "execution_count": 6,
      "id": "196e4edf",
      "metadata": {},
      "outputs": [],
      "source": [
        "np.set_printoptions(precision=0, floatmode='fixed')"
      ]
    },
    {
      "cell_type": "code",
      "execution_count": 7,
      "id": "bcc17dfc",
      "metadata": {},
      "outputs": [
        {
          "name": "stdout",
          "output_type": "stream",
          "text": [
            "Первые 20 значений вектора x: [1. 1. 1. 1. 1. 1. 1. 1. 1. 1. 2. 2. 2. 2. 2. 2. 2. 2. 2. 2.]\n"
          ]
        }
      ],
      "source": [
        "n = 10\n",
        "m = 3 * 10 ** 6\n",
        "\n",
        "r = pd.read_csv('rhs.csv', header=None)\n",
        "r = r.values.flatten()\n",
        "\n",
        "i = np.arange(n).reshape(n, 1)\n",
        "j = np.arange(n)\n",
        "C = 1 / (i + j + 1)\n",
        "\n",
        "i = np.arange(1, n + 1)\n",
        "j = np.arange(1, m + 1)\n",
        "I, J = np.meshgrid(i, j, indexing='ij')\n",
        "D = np.cos(I * J)\n",
        "\n",
        "Gb = np.array([[1, 0, 1],\n",
        "              [0, 1, 0],\n",
        "              [-1, 0, 1]])\n",
        "\n",
        "Gb = [Gb] * (m // Gb.shape[0])\n",
        "G = csr_matrix(block_diag(Gb))\n",
        "\n",
        "Gb_inv = np.linalg.inv(Gb)\n",
        "G_inv = csr_matrix(block_diag(Gb_inv))\n",
        "\n",
        "A = C - D @ G_inv @ D.T\n",
        "\n",
        "a = r[:10]\n",
        "b = r[10:]\n",
        "\n",
        "del_c = np.linalg.solve(A, a - D @ G_inv @ b)\n",
        "del_S = G_inv @ (b - D.T @ del_c)\n",
        "\n",
        "x = np.concatenate([del_c, del_S])\n",
        "\n",
        "print(\"Первые 20 значений вектора x:\", x[:20])"
      ]
    }
  ],
  "metadata": {
    "colab": {
      "provenance": []
    },
    "kernelspec": {
      "display_name": "Python 3 (ipykernel)",
      "language": "python",
      "name": "python3"
    },
    "language_info": {
      "codemirror_mode": {
        "name": "ipython",
        "version": 3
      },
      "file_extension": ".py",
      "mimetype": "text/x-python",
      "name": "python",
      "nbconvert_exporter": "python",
      "pygments_lexer": "ipython3",
      "version": "3.9.13"
    }
  },
  "nbformat": 4,
  "nbformat_minor": 5
}

{
  "nbformat": 4,
  "nbformat_minor": 0,
  "metadata": {
    "colab": {
      "provenance": []
    },
    "kernelspec": {
      "name": "python3",
      "display_name": "Python 3"
    },
    "language_info": {
      "name": "python"
    }
  },
  "cells": [
    {
      "cell_type": "code",
      "execution_count": 1,
      "metadata": {
        "id": "NF2VPB7Oia92"
      },
      "outputs": [],
      "source": [
        "import numpy as np\n",
        "from scipy.spatial.transform import Rotation as R"
      ]
    },
    {
      "cell_type": "markdown",
      "source": [
        "### №6"
      ],
      "metadata": {
        "id": "SNgFHsc8-hK7"
      }
    },
    {
      "cell_type": "code",
      "source": [
        "fx = fy = 400\n",
        "cx = 960\n",
        "cy = 540\n",
        "\n",
        "angle = np.pi / 4\n",
        "r = R.from_rotvec([0, 0, angle]).as_matrix()\n",
        "t = np.array([0, 0, 10])\n",
        "\n",
        "K = np.array([[fx, 0, cx],\n",
        "              [0, fy, cy],\n",
        "              [0, 0, 1]])\n",
        "\n",
        "P = K @ np.hstack((r, t.reshape(3, 1)))\n",
        "X = np.array([10, -10, 100, 1])\n",
        "\n",
        "x = P @ X\n",
        "x /= x[2]\n",
        "\n",
        "print(\"p:\")\n",
        "print(P)\n",
        "print(\"x:\", x[:2].astype(int))"
      ],
      "metadata": {
        "colab": {
          "base_uri": "https://localhost:8080/"
        },
        "id": "MnXoxSciidnQ",
        "outputId": "36a2ae98-4a55-4c14-c193-930cdbcc72b9"
      },
      "execution_count": 6,
      "outputs": [
        {
          "output_type": "stream",
          "name": "stdout",
          "text": [
            "p:\n",
            "[[ 2.82842712e+02 -2.82842712e+02  9.60000000e+02  9.60000000e+03]\n",
            " [ 2.82842712e+02  2.82842712e+02  5.40000000e+02  5.40000000e+03]\n",
            " [ 0.00000000e+00  0.00000000e+00  1.00000000e+00  1.00000000e+01]]\n",
            "x: [1011  540]\n"
          ]
        }
      ]
    },
    {
      "cell_type": "markdown",
      "source": [
        "### №13"
      ],
      "metadata": {
        "id": "9qhhBoZD-l92"
      }
    },
    {
      "cell_type": "code",
      "source": [
        "angle = np.pi / 4\n",
        "r = R.from_rotvec([0, 0, angle]).as_matrix()\n",
        "t = np.array([10, 0, 0])\n",
        "\n",
        "F = np.cross(t, r, axisa=0, axisb=0, axisc=0)\n",
        "\n",
        "print(F)"
      ],
      "metadata": {
        "colab": {
          "base_uri": "https://localhost:8080/"
        },
        "id": "U-mJjRLPlS0H",
        "outputId": "e848f82b-87f7-4994-ddb3-a53410a01fb6"
      },
      "execution_count": 30,
      "outputs": [
        {
          "output_type": "stream",
          "name": "stdout",
          "text": [
            "[[  0.           0.           0.        ]\n",
            " [  0.          -0.         -10.        ]\n",
            " [  7.07106781   7.07106781   0.        ]]\n"
          ]
        }
      ]
    },
    {
      "cell_type": "markdown",
      "source": [
        "### №14"
      ],
      "metadata": {
        "id": "TRvmbiPM-oFu"
      }
    },
    {
      "cell_type": "markdown",
      "source": [
        "$ \\left(\n",
        "\\begin{matrix} \n",
        "x_2 \\\\\n",
        "y_2 \\\\\n",
        "z_2 \n",
        "\\end{matrix} \n",
        "\\right) =\n",
        "R_2^{-1} \\left[ \\left(\n",
        "\\begin{matrix} \n",
        "x_1 \\\\\n",
        "y_1 \\\\\n",
        "z_1 \n",
        "\\end{matrix} \n",
        "\\right) - T \\right] $"
      ],
      "metadata": {
        "id": "89yqO5OZVVEn"
      }
    },
    {
      "cell_type": "code",
      "source": [
        "angle = np.pi / 4\n",
        "R1 = R.from_rotvec([0, 0, angle]).as_matrix()\n",
        "R2 = R.from_rotvec([0, - angle, 0]).as_matrix()\n",
        "R2_inv = np.linalg.inv(R2)\n",
        "T = np.array([-10, 0, 0])\n",
        "\n",
        "F = np.cross(T, R2_inv @ R1, axisa=0, axisb=0, axisc=0)\n",
        "\n",
        "print(F)"
      ],
      "metadata": {
        "colab": {
          "base_uri": "https://localhost:8080/"
        },
        "id": "SYYhn2k1idiK",
        "outputId": "62a2c8bf-5721-4a5e-a1eb-2773873f56bb"
      },
      "execution_count": 9,
      "outputs": [
        {
          "output_type": "stream",
          "name": "stdout",
          "text": [
            "[[-0.          0.          0.        ]\n",
            " [-5.          5.          7.07106781]\n",
            " [-7.07106781 -7.07106781 -0.        ]]\n"
          ]
        }
      ]
    },
    {
      "cell_type": "markdown",
      "source": [
        "### №15"
      ],
      "metadata": {
        "id": "6g3LHSNV-ozq"
      }
    },
    {
      "cell_type": "code",
      "source": [
        "u, s, vh = np.linalg.svd(F) \n",
        "\n",
        "e1 = vh[np.isclose(s, np.zeros(s.shape))][0]\n",
        "e1 /= e1[2]\n",
        "e2 = T\n",
        "print(\"e1: \", e1)\n",
        "print(\"e2: \", e2)\n",
        "# print(e2 @ F @ e1)"
      ],
      "metadata": {
        "colab": {
          "base_uri": "https://localhost:8080/"
        },
        "id": "JSxW1emMm1ca",
        "outputId": "7ef95a1b-7f1a-4bbb-c365-7200d1d7afc6"
      },
      "execution_count": 11,
      "outputs": [
        {
          "output_type": "stream",
          "name": "stdout",
          "text": [
            "e1:  [ 0.70710678 -0.70710678  1.        ]\n",
            "e2:  [-10   0   0]\n"
          ]
        }
      ]
    },
    {
      "cell_type": "markdown",
      "source": [
        "Эпиполь второго изображения находится на бесконечности.\n",
        "$ F \\cdot e_1 = 0, \\quad e_2 = K_2 \\cdot T_2. $"
      ],
      "metadata": {
        "id": "iQ6gWiPC_Q9y"
      }
    },
    {
      "cell_type": "markdown",
      "source": [
        "### №16"
      ],
      "metadata": {
        "id": "cWDI2xBL-ykx"
      }
    },
    {
      "cell_type": "code",
      "source": [
        "q = np.array([0, 0, 1])\n",
        "\n",
        "l1 = F.T @ q.T\n",
        "l2 = F @ q.T\n",
        "\n",
        "print(f\"l: {l1[0]}*x + {l1[1]}*y + {l1[2]} = 0\")\n",
        "print(f\"l': {l2[0]}*x' + {l2[1]}*y' + {l2[2]} = 0\")"
      ],
      "metadata": {
        "id": "7Vkiz2cWpAiX",
        "colab": {
          "base_uri": "https://localhost:8080/"
        },
        "outputId": "86048a38-8107-4fb5-8c13-b4fbbf519b54"
      },
      "execution_count": 27,
      "outputs": [
        {
          "output_type": "stream",
          "name": "stdout",
          "text": [
            "l: -7.0710678118654755*x + -7.071067811865475*y + 0.0 = 0\n",
            "l': 0.0*x' + 7.071067811865475*y' + 0.0 = 0\n"
          ]
        }
      ]
    },
    {
      "cell_type": "markdown",
      "source": [
        "$ l_1 = F^T \\cdot q \\quad l_2 = F \\cdot q. $"
      ],
      "metadata": {
        "id": "8mSLDjM8AanI"
      }
    }
  ]
}
{
  "cells": [
    {
      "cell_type": "code",
      "execution_count": 1,
      "id": "2bbe3c84",
      "metadata": {
        "id": "2bbe3c84"
      },
      "outputs": [],
      "source": [
        "import numpy as np"
      ]
    },
    {
      "cell_type": "code",
      "execution_count": 2,
      "id": "62e7c2f6",
      "metadata": {
        "id": "62e7c2f6"
      },
      "outputs": [],
      "source": [
        "np.set_printoptions(precision=3, floatmode='fixed')"
      ]
    },
    {
      "cell_type": "markdown",
      "id": "721b8575",
      "metadata": {
        "id": "721b8575"
      },
      "source": [
        "### №1"
      ]
    },
    {
      "cell_type": "code",
      "execution_count": 3,
      "id": "eab932ab",
      "metadata": {
        "colab": {
          "base_uri": "https://localhost:8080/"
        },
        "id": "eab932ab",
        "outputId": "9d261170-c920-44a7-bbbf-89a6c8f06a4f"
      },
      "outputs": [
        {
          "output_type": "stream",
          "name": "stdout",
          "text": [
            "R: \n",
            "[[ 5.000e-01  8.660e-01 -3.880e-10]\n",
            " [-8.660e-01  5.000e-01  1.655e-11]\n",
            " [ 2.083e-10  3.277e-10  1.000e+00]]\n",
            "angle = 60.0\n"
          ]
        }
      ],
      "source": [
        "A = np.array([[0.5, 2.16506351, 0.4330127],\n",
        "              [-0.8660254, 1.25, 0.25],\n",
        "              [0, 0.5, 2.5]])\n",
        "\n",
        "u, s, vh = np.linalg.svd(A)\n",
        "    \n",
        "R = u @ vh\n",
        "\n",
        "print(f\"R: \\n{R}\")\n",
        "print(\"angle =\", np.rint(np.arccos(R[1,1]) * 180 / np.pi))"
      ]
    },
    {
      "cell_type": "markdown",
      "id": "ae592a81",
      "metadata": {
        "id": "ae592a81"
      },
      "source": [
        "By the element $R[1,0]$ and by the fact that $\\cos{(60)}=\\frac{1}{2}$ it is clear that this is a negative angle, that is, $R (-\\theta)$ $\\Rightarrow$ this is a clockwise rotation relative to the $z$ coordinate, that is $R_{z}(-\\theta), $ where $\\theta = 60.$\n"
      ]
    },
    {
      "cell_type": "markdown",
      "id": "65b5904c",
      "metadata": {
        "id": "65b5904c"
      },
      "source": [
        "### №2"
      ]
    },
    {
      "cell_type": "code",
      "execution_count": 4,
      "id": "602b85f7",
      "metadata": {
        "colab": {
          "base_uri": "https://localhost:8080/"
        },
        "id": "602b85f7",
        "outputId": "36bc014c-f8b5-49be-e334-b8ebf8bfec4e"
      },
      "outputs": [
        {
          "output_type": "stream",
          "name": "stdout",
          "text": [
            "[[   9.000  -36.000   30.000]\n",
            " [ -36.000  192.000 -180.000]\n",
            " [  30.000 -180.000  180.000]]\n"
          ]
        }
      ],
      "source": [
        "n = 3\n",
        "a = np.ones((n, n))\n",
        "\n",
        "for i in range(1, n + 1):\n",
        "    for j in range(1, n + 1):\n",
        "        a[i-1][j-1] /= (i + j - 1)\n",
        "\n",
        "u, s, vh = np.linalg.svd(a)\n",
        "\n",
        "for i in range(s.shape[0]):\n",
        "    s[i] = 1 / s[i]\n",
        "    \n",
        "a_pri = vh.T @ np.diag(s).T @ u.T\n",
        "\n",
        "print(a_pri)"
      ]
    },
    {
      "cell_type": "code",
      "execution_count": 5,
      "id": "3e36c53f",
      "metadata": {
        "colab": {
          "base_uri": "https://localhost:8080/"
        },
        "id": "3e36c53f",
        "outputId": "86561c7a-0d91-4143-8a49-48b62672516a"
      },
      "outputs": [
        {
          "output_type": "stream",
          "name": "stdout",
          "text": [
            "[[ 1.000e+02 -4.950e+03  7.919e+04 -6.005e+05  2.522e+06 -6.306e+06\n",
            "   9.608e+06 -8.751e+06  4.375e+06 -9.237e+05]\n",
            " [-4.950e+03  3.267e+05 -5.880e+06  4.756e+07 -2.081e+08  5.351e+08\n",
            "  -8.323e+08  7.700e+08 -3.898e+08  8.313e+07]\n",
            " [ 7.919e+04 -5.880e+06  1.129e+08 -9.513e+08  4.281e+09 -1.124e+10\n",
            "   1.776e+10 -1.663e+10  8.505e+09 -1.829e+09]\n",
            " [-6.005e+05  4.756e+07 -9.513e+08  8.244e+09 -3.787e+10  1.010e+11\n",
            "  -1.616e+11  1.529e+11 -7.883e+10  1.707e+10]\n",
            " [ 2.522e+06 -2.081e+08  4.281e+09 -3.787e+10  1.767e+11 -4.772e+11\n",
            "   7.712e+11 -7.358e+11  3.820e+11 -8.321e+10]\n",
            " [-6.306e+06  5.351e+08 -1.124e+10  1.010e+11 -4.772e+11  1.301e+12\n",
            "  -2.121e+12  2.038e+12 -1.064e+12  2.330e+11]\n",
            " [ 9.608e+06 -8.323e+08  1.776e+10 -1.616e+11  7.712e+11 -2.121e+12\n",
            "   3.480e+12 -3.364e+12  1.766e+12 -3.883e+11]\n",
            " [-8.751e+06  7.700e+08 -1.663e+10  1.529e+11 -7.358e+11  2.038e+12\n",
            "  -3.364e+12  3.267e+12 -1.723e+12  3.804e+11]\n",
            " [ 4.375e+06 -3.898e+08  8.506e+09 -7.883e+10  3.820e+11 -1.064e+12\n",
            "   1.766e+12 -1.723e+12  9.122e+11 -2.021e+11]\n",
            " [-9.237e+05  8.313e+07 -1.829e+09  1.707e+10 -8.321e+10  2.330e+11\n",
            "  -3.883e+11  3.804e+11 -2.021e+11  4.491e+10]]\n"
          ]
        }
      ],
      "source": [
        "n = 10\n",
        "a = np.ones((n, n))\n",
        "\n",
        "for i in range(1, n + 1):\n",
        "    for j in range(1, n + 1):\n",
        "        a[i-1][j-1] /= (i + j - 1)\n",
        "        \n",
        "u, s, vh = np.linalg.svd(a)\n",
        "\n",
        "for i in range(s.shape[0]):\n",
        "    s[i] = 1 / s[i]\n",
        "    \n",
        "a_pri = vh.T @ np.diag(s).T @ u.T\n",
        "\n",
        "print(a_pri)"
      ]
    },
    {
      "cell_type": "markdown",
      "id": "5e5f8c93",
      "metadata": {
        "id": "5e5f8c93"
      },
      "source": [
        "### №3"
      ]
    },
    {
      "cell_type": "code",
      "execution_count": 6,
      "id": "da0120e8",
      "metadata": {
        "colab": {
          "base_uri": "https://localhost:8080/"
        },
        "id": "da0120e8",
        "outputId": "bcbfd5d0-473a-4dfb-e3f3-8e9da46c00aa"
      },
      "outputs": [
        {
          "output_type": "stream",
          "name": "stdout",
          "text": [
            "[ 0.347 -0.147 -0.747  0.547]\n",
            "[-0.424  0.824 -0.376 -0.024]\n"
          ]
        }
      ],
      "source": [
        "n = 4\n",
        "A = np.empty([n, n])\n",
        "for i in range(n):\n",
        "    for j in range(n):\n",
        "        A[i][j] = i + j - 1\n",
        "\n",
        "#print(A, \" rank(A):\", np.linalg.matrix_rank(A))\n",
        "\n",
        "u, s, v = np.linalg.svd(A)\n",
        "nulls = np.zeros(s.shape)\n",
        "\n",
        "x_1 = v[np.isclose(s, nulls)][0]\n",
        "x_2 = v[np.isclose(s, nulls)][1]\n",
        "\n",
        "#so rank(A) = 2, hence 2 close to zero singular values\n",
        "\n",
        "\n",
        "'''\n",
        "print(x_1.T @ x_1)\n",
        "print(x_2.T @ x_2)\n",
        "\n",
        "b_1 = A @ x_1\n",
        "b_2 = A @ x_2\n",
        "\n",
        "print(b_1)\n",
        "print(b_2)\n",
        "'''\n",
        "\n",
        "print(x_1)\n",
        "print(x_2)"
      ]
    },
    {
      "cell_type": "markdown",
      "id": "3431c2a6",
      "metadata": {
        "id": "3431c2a6"
      },
      "source": [
        "### №4"
      ]
    },
    {
      "cell_type": "code",
      "execution_count": 7,
      "id": "330ad4be",
      "metadata": {
        "colab": {
          "base_uri": "https://localhost:8080/"
        },
        "id": "330ad4be",
        "outputId": "1ea47964-e707-4a61-b6e3-1412780dc9a9"
      },
      "outputs": [
        {
          "output_type": "stream",
          "name": "stdout",
          "text": [
            "l1: [-2, 9, 3]   l2: [3, -4, 9]\n",
            "2D coordinates of the intersection point: [-4.895 -1.421]\n"
          ]
        }
      ],
      "source": [
        "from random import randint\n",
        "\n",
        "\n",
        "def vect_prod(a,b):\n",
        "    return np.asarray([a[1]*b[2]-a[2]*b[1], a[2]*b[0]-a[0]*b[2], a[0]*b[1]-b[0]*a[1]], dtype='f')\n",
        "\n",
        "a, b, c, d, e = [randint(-10, 10) for i in range(5)]\n",
        "l1 = [a, b, c]\n",
        "l2 = [c, d, e]\n",
        "\n",
        "print(\"l1:\", l1, \"  l2:\", l2)\n",
        "\n",
        "a = vect_prod(l1, l2)\n",
        "a_len = a.shape[0]\n",
        "\n",
        "#assert a[a_len-1] != 0, \"straight lines don't intersect or not a straight line was generated\"\n",
        "\n",
        "if a[a_len-1] != 0:\n",
        "    for i in range(a_len):\n",
        "        a[i] /= a[a_len-1]\n",
        "        \n",
        "    a = a[:2]\n",
        "    print(\"2D coordinates of the intersection point:\", a)\n",
        "else:\n",
        "    print(\"Homogeneous coordinates of a 2D intersection point\", a)"
      ]
    },
    {
      "cell_type": "markdown",
      "id": "84eea460",
      "metadata": {
        "id": "84eea460"
      },
      "source": [
        "### №5\n",
        "\n",
        "\n",
        "Пусть $A \\in \\mathbb R^{n \\times n} $ действительная матрица и $\\operatorname{rank}{(A)} = k.$ Также пусть $ A = U \\Sigma V^{\\top} $— сингулярное разложение матрицы $ A $ с сингулярными числами $ \\sigma_1 \\geq \\sigma_2 \\geq \\ldots \\geq \\sigma_k > 0. $ Пусть $ A_{r}=\\sum\\limits_{i = 1}^r \\sigma_i u_i v_i^{\\top}, $ тогда \n",
        "$$ \\operatorname{{\\underset{\\operatorname{rank}(B)=r}{min}}} \\left\\| A - B \\right\\|_F^2 = \\left\\| A - A_r \\right\\|_F^2 = \\sum\\limits_{i = r+ 1}^k \\sigma_i^2. $$\n",
        "__Доказательство:__ $$ \\Bigg\\|{ A - A_r } \\Bigg\\|_F^2 = \\bigg\\| \\sum\\limits_{i = 1}^k \\sigma_i u_i v_i^{\\top} - \\sum\\limits_{i = 1}^r \\sigma_i u_i v_i^{\\top} \\bigg\\|_F^2 = \\left\\| \\sum\\limits_{i = r+ 1}^k \\sigma_i u_i v_i^{\\top} \\right\\|_F^2 = \\left\\| U \\operatorname{diag}(0, \\ldots, 0, \\sigma_{r+1}, \\ldots, \\sigma_k) V^{\\top} \\right\\|_F^2 = \\sum\\limits_{i = r+ 1}^k \\sigma_i^2. $$\n",
        "\n",
        "Покажем, что если найдется любая другая матрица $ C_r = XY^{\\top} $ где $ X $ и $ Y $ имеют $ r $ столбцов, то\n",
        "\n",
        "$$ \\left\\| A - A_r \\right\\|_F^2 = \\sum_{i = r + 1}^n \\sigma_i^2 \\leq \\left\\|A - C_r \\right\\|_F^2. $$\n",
        "\n",
        "По неравенству треугольника, если $ A = A_1 + A_2, $ то $ \\sigma_1(A) \\leq \\sigma_1(A_1) + \\sigma_1(A_2). $ Соответственно $ A_{1, k} $ и $ A_{2, k} $ имеют $ k $ ранг приближения к матрицам $ A_1 $ и $ A_2. $ Тогда $ ∀ i,j \\geq 1: $\n",
        "\n",
        "$$ \\sigma_i (A_1) + \\sigma_j (A_2) = \\sigma_1 (A_1 - A_{1, i-1}) + \\sigma_1(A_2 - A_{2, j-1}). \\tag{1} $$\n",
        "\n",
        "$$ if A_1 = \n",
        "\\left(\n",
        "\\begin{matrix} \n",
        "3 & 0 & 0 \\\\\n",
        "0 & 2 & 0 \\\\\n",
        "0 & 0 & 1 \n",
        "\\end{matrix} \n",
        "\\right) \\Rightarrow  A_1 - A_{1, 1} =   \n",
        "\\left(\n",
        "\\begin{matrix}\n",
        "3 & 0 & 0 \\\\\n",
        "0 & 2 & 0 \\\\\n",
        "0 & 0 & 1 \n",
        "\\end{matrix}\n",
        "\\right) - \n",
        "\\left(\n",
        "\\begin{matrix}\n",
        "3 & 0 & 0 \\\\\n",
        "0 & 0 & 0 \\\\\n",
        "0 & 0 & 0 \n",
        "\\end{matrix}\n",
        "\\right) = \n",
        "\\left(\n",
        "\\begin{matrix}\n",
        "0 & 0 & 0 \\\\\n",
        "0 & 2 & 0 \\\\\n",
        "0 & 0 & 1 \n",
        "\\end{matrix}\n",
        "\\right) \\Rightarrow \\sigma_1(A_1) = \\sigma_1 (A_1 - A_{1, 1}) = 2, \\quad \\mbox{at} \\quad i = 2.\n",
        "$$\n",
        "\n",
        "\n",
        "Далее по неравенству треугольника равенство $(1)$ оценим снизу:\n",
        "$$ \\sigma_1 (A_1 - A_{1, i-1}) + \\sigma_1(A_2 - A_{2, j-1}) \\geq \\sigma_1(A - A_{1, i-1} - A_{2, j-1}), \\quad \\mbox{где} \\quad A = A_1 + A_2.$$\n",
        "$$ \\sigma_1(A - A_{1, i-1} - A_{2, j-1}) \\geq \\sigma_1(A - A_{i+j-2}) =\\sigma _{i+j-1}(A). $$\n",
        "Последнее неравенство справедливо, поскольку ранг суммы $ A_{1, i-1} + A_{2,j-1} $ не превосходит ранг матрицы $ A_{i+j-2}. $ \n",
        "\n",
        "Если положить $ A_1 = A - C_r $ и $ A_2 = C_r, $ то из-за того, что $ \\sigma_{r+1}(C_r) = 0 \\Rightarrow \\forall i \\geq 1 \\cap j=r+1: \\sigma_{i}(A - C_r) \\geq \\sigma_{r+i}(A). $\n",
        "\n",
        "Тогда $ \\left\\| A - A_r \\right\\|_F^2 = \\sum\\limits_{i=r+1}^n \\sigma_i(A)^2 \\leq \\sum\\limits_{i=1}^n \\sigma_i(A - C_r)^2 = \\left\\| A - C_r \\right\\|_F^2. $\n",
        "\n",
        "То есть любое другое приближение матрицы $ A $ матрицей $ C_r $ либо равно, либо больше, чем приближение, обеспечиваемое матрицей $ A_r. $ Cледовательно, матрица $A_r$— ближайшая матрица (в смысле нормы Фробениуса) к матрице $A.$"
      ]
    },
    {
      "cell_type": "markdown",
      "id": "de3df5a2",
      "metadata": {
        "id": "de3df5a2"
      },
      "source": [
        "### №7\n",
        "\n",
        "http://www.dspa.ru/articles/year2017/jour17_3/art17_3_3.pdf\n",
        "\n",
        "And I also found a misprint in this article that when they form the matrix _A_, the matrix _O_ is of the wrong dimension. For everything to match, you need a 4x3 dimension and not like their 3x3."
      ]
    },
    {
      "cell_type": "code",
      "execution_count": 8,
      "id": "a8e9a6fa",
      "metadata": {
        "id": "a8e9a6fa"
      },
      "outputs": [],
      "source": [
        "def point_pair_generator(H_0, n = 4):\n",
        "    lst1 = []\n",
        "    lst1.extend([[randint(-10, 10), randint(-10, 10)] for i in range(n)])\n",
        "    lst2 = np.zeros((n, 3))\n",
        "    \n",
        "    for i in range(n):\n",
        "        lst1[i] = np.append(lst1[i], 1)\n",
        "        lst2[i] = (H_0 @ lst1[i])\n",
        "        assert lst2[i][2] != 0\n",
        "        lst2[i] /= lst2[i][2]\n",
        "\n",
        "    lst1 = np.asarray(lst1)\n",
        "    #print(lst1)\n",
        "    #print(lst2)\n",
        "    return lst1, lst2"
      ]
    },
    {
      "cell_type": "code",
      "execution_count": 9,
      "id": "df780f7b",
      "metadata": {
        "id": "df780f7b"
      },
      "outputs": [],
      "source": [
        "def find_homography_matrix(lst1, lst2):\n",
        "    A = np.zeros((8, 8), dtype='f')\n",
        "    A[:4,:3] = lst1\n",
        "    A[4:,3:6] = lst1\n",
        "    A[:4, 6:8] = [[-i[0] * j[0], - j[0] * i[1]] for i, j in zip(lst1, lst2)]\n",
        "    A[4:, 6:8] = [[-i[0] * j[1], - j[1] * i[1]] for i, j in zip(lst1, lst2)]\n",
        "    #print(A)\n",
        "    B = np.zeros(8, dtype='f')\n",
        "    B[:4] = lst2[:, 0]\n",
        "    B[4:8] = lst2[:, 1]\n",
        "    #print(B)\n",
        "    u, s, vh = np.linalg.svd(A)\n",
        "    for i in range(s.shape[0]):\n",
        "        s[i] = 1 / s[i]\n",
        "    H_pri = vh.T @ np.diag(s).T @ u.T @ B\n",
        "    H_pri = np.append(H_pri, 1)\n",
        "    H = H_pri.reshape(-1, 3)\n",
        "    return H"
      ]
    },
    {
      "cell_type": "code",
      "execution_count": 10,
      "id": "8de312c1",
      "metadata": {
        "colab": {
          "base_uri": "https://localhost:8080/"
        },
        "id": "8de312c1",
        "outputId": "44025d88-81d9-4200-eb80-4ddbcc37a0f7"
      },
      "outputs": [
        {
          "output_type": "stream",
          "name": "stdout",
          "text": [
            "H_0: \n",
            "[[ 0.500  2.165  0.433]\n",
            " [-0.866  1.250  0.250]\n",
            " [ 0.000  0.500  1.000]]\n",
            "H: \n",
            "[[ 5.000e-01  2.165e+00  4.330e-01]\n",
            " [-8.660e-01  1.250e+00  2.500e-01]\n",
            " [-7.451e-09  5.000e-01  1.000e+00]]\n"
          ]
        }
      ],
      "source": [
        "H_0 = np.array([[0.5, 2.16506351, 0.4330127],\n",
        "              [-0.8660254, 1.25, 0.25],\n",
        "              [0, 0.5, 1]])\n",
        "print(f\"H_0: \\n{H_0}\")\n",
        "print(f\"H: \\n{find_homography_matrix(*point_pair_generator(H_0))}\")"
      ]
    },
    {
      "cell_type": "markdown",
      "id": "bdc003a0",
      "metadata": {
        "id": "bdc003a0"
      },
      "source": [
        "### №9\n",
        "\n",
        "But the matrix of internal parameters of the camera is not given.\n",
        "And of course the homography matrix \n",
        "$H = K R K^{-1}, $ where $R$ — rotation matrix around the x-axis by 30 degrees, and $K$ is the matrix of internal parameters of both cameras."
      ]
    },
    {
      "cell_type": "code",
      "execution_count": 11,
      "id": "518c7953",
      "metadata": {
        "id": "518c7953",
        "colab": {
          "base_uri": "https://localhost:8080/"
        },
        "outputId": "d32ee5dd-07d6-45b0-8d0d-520c7284233a"
      },
      "outputs": [
        {
          "output_type": "stream",
          "name": "stdout",
          "text": [
            "[[ 1.000  0.500 -1.134]\n",
            " [ 0.000  1.866 -2.500]\n",
            " [ 0.000  0.500 -0.134]]\n"
          ]
        }
      ],
      "source": [
        "theta = np.pi / 6\n",
        "R = np.array([[1, 0, 0],\n",
        "              [0, np.cos(theta), - np.sin(theta)],\n",
        "              [0, np.sin(theta), np.cos(theta)]])\n",
        "\n",
        "f_x = 1\n",
        "f_y = 1\n",
        "c_x = 1\n",
        "c_y = 2\n",
        "\n",
        "K = np.array([[f_x, 0, c_x], \n",
        "              [0, f_y, c_y],\n",
        "              [0, 0, 1]])\n",
        "\n",
        "H = K @ R @ np.linalg.inv(K)\n",
        "print(H)"
      ]
    }
  ],
  "metadata": {
    "colab": {
      "provenance": []
    },
    "kernelspec": {
      "display_name": "Python 3 (ipykernel)",
      "language": "python",
      "name": "python3"
    },
    "language_info": {
      "codemirror_mode": {
        "name": "ipython",
        "version": 3
      },
      "file_extension": ".py",
      "mimetype": "text/x-python",
      "name": "python",
      "nbconvert_exporter": "python",
      "pygments_lexer": "ipython3",
      "version": "3.9.13"
    }
  },
  "nbformat": 4,
  "nbformat_minor": 5
}